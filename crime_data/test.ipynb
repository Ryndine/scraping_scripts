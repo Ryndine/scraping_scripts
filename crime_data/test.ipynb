{
 "cells": [
  {
   "cell_type": "code",
   "execution_count": 64,
   "metadata": {},
   "outputs": [],
   "source": [
    "from splinter import Browser\n",
    "from bs4 import BeautifulSoup as soup, Tag\n",
    "import pandas as pd\n",
    "from webdriver_manager.chrome import ChromeDriverManager\n",
    "import unicodedata"
   ]
  },
  {
   "cell_type": "code",
   "execution_count": 65,
   "metadata": {},
   "outputs": [
    {
     "name": "stderr",
     "output_type": "stream",
     "text": [
      "\n",
      "\n",
      "====== WebDriver manager ======\n",
      "Current google-chrome version is 104.0.5112\n",
      "Get LATEST driver version for 104.0.5112\n",
      "Driver [C:\\Users\\rcman\\.wdm\\drivers\\chromedriver\\win32\\104.0.5112.79\\chromedriver.exe] found in cache\n"
     ]
    }
   ],
   "source": [
    "executable_path = {'executable_path': ChromeDriverManager().install()}\n",
    "browser = Browser('chrome', **executable_path, headless=False)"
   ]
  },
  {
   "cell_type": "code",
   "execution_count": 66,
   "metadata": {},
   "outputs": [],
   "source": [
    "url = 'https://nixle.us/DRWAB?_ga=2.243516741.11491368.1659568246-285813041.1659568246'\n",
    "browser.visit(url)\n",
    "browser.is_element_present_by_css('div.alert-body', wait_time=1)\n",
    "\n",
    "alerts_html = browser.find_by_id('alert-body').html\n",
    "\n",
    "alertsRaw = soup(alerts_html, 'html.parser')\n",
    "\n",
    "browser.quit()"
   ]
  },
  {
   "cell_type": "code",
   "execution_count": 67,
   "metadata": {},
   "outputs": [],
   "source": [
    "# Build list of from childs\n",
    "alertsList = []\n",
    "for i in alertsRaw.childGenerator():\n",
    "    alertsList.append(i)"
   ]
  },
  {
   "cell_type": "code",
   "execution_count": 68,
   "metadata": {},
   "outputs": [
    {
     "name": "stdout",
     "output_type": "stream",
     "text": [
      "BREAKING CRIME PREVENTION TIPS\n"
     ]
    },
    {
     "name": "stderr",
     "output_type": "stream",
     "text": [
      "C:\\Users\\rcman\\AppData\\Local\\Temp\\ipykernel_46836\\580898986.py:26: FutureWarning: The frame.append method is deprecated and will be removed from pandas in a future version. Use pandas.concat instead.\n",
      "  crimeDf = crimeDf.append({'Date':date,\n",
      "C:\\Users\\rcman\\AppData\\Local\\Temp\\ipykernel_46836\\580898986.py:26: FutureWarning: The frame.append method is deprecated and will be removed from pandas in a future version. Use pandas.concat instead.\n",
      "  crimeDf = crimeDf.append({'Date':date,\n",
      "C:\\Users\\rcman\\AppData\\Local\\Temp\\ipykernel_46836\\580898986.py:26: FutureWarning: The frame.append method is deprecated and will be removed from pandas in a future version. Use pandas.concat instead.\n",
      "  crimeDf = crimeDf.append({'Date':date,\n",
      "C:\\Users\\rcman\\AppData\\Local\\Temp\\ipykernel_46836\\580898986.py:26: FutureWarning: The frame.append method is deprecated and will be removed from pandas in a future version. Use pandas.concat instead.\n",
      "  crimeDf = crimeDf.append({'Date':date,\n",
      "C:\\Users\\rcman\\AppData\\Local\\Temp\\ipykernel_46836\\580898986.py:26: FutureWarning: The frame.append method is deprecated and will be removed from pandas in a future version. Use pandas.concat instead.\n",
      "  crimeDf = crimeDf.append({'Date':date,\n",
      "C:\\Users\\rcman\\AppData\\Local\\Temp\\ipykernel_46836\\580898986.py:26: FutureWarning: The frame.append method is deprecated and will be removed from pandas in a future version. Use pandas.concat instead.\n",
      "  crimeDf = crimeDf.append({'Date':date,\n",
      "C:\\Users\\rcman\\AppData\\Local\\Temp\\ipykernel_46836\\580898986.py:26: FutureWarning: The frame.append method is deprecated and will be removed from pandas in a future version. Use pandas.concat instead.\n",
      "  crimeDf = crimeDf.append({'Date':date,\n",
      "C:\\Users\\rcman\\AppData\\Local\\Temp\\ipykernel_46836\\580898986.py:26: FutureWarning: The frame.append method is deprecated and will be removed from pandas in a future version. Use pandas.concat instead.\n",
      "  crimeDf = crimeDf.append({'Date':date,\n"
     ]
    },
    {
     "data": {
      "text/html": [
       "<div>\n",
       "<style scoped>\n",
       "    .dataframe tbody tr th:only-of-type {\n",
       "        vertical-align: middle;\n",
       "    }\n",
       "\n",
       "    .dataframe tbody tr th {\n",
       "        vertical-align: top;\n",
       "    }\n",
       "\n",
       "    .dataframe thead th {\n",
       "        text-align: right;\n",
       "    }\n",
       "</style>\n",
       "<table border=\"1\" class=\"dataframe\">\n",
       "  <thead>\n",
       "    <tr style=\"text-align: right;\">\n",
       "      <th></th>\n",
       "      <th>Date</th>\n",
       "      <th>Alert</th>\n",
       "      <th>Location</th>\n",
       "      <th>Description</th>\n",
       "    </tr>\n",
       "  </thead>\n",
       "  <tbody>\n",
       "    <tr>\n",
       "      <th>0</th>\n",
       "      <td>July 10, 2022</td>\n",
       "      <td>Grand Theft:</td>\n",
       "      <td>1413 Huntington Drive (The Huntington Apartments</td>\n",
       "      <td>. Between July 9, 2022, 5 PM and July 10, 2022...</td>\n",
       "    </tr>\n",
       "    <tr>\n",
       "      <th>1</th>\n",
       "      <td>July 12, 2022</td>\n",
       "      <td>Grand Theft Auto:</td>\n",
       "      <td>1100 Block of Bloomdale Street.</td>\n",
       "      <td>On July 12, 2022 between 1:20 AM and 10:50 AM,...</td>\n",
       "    </tr>\n",
       "    <tr>\n",
       "      <th>2</th>\n",
       "      <td>July 13, 2022</td>\n",
       "      <td>Attempt Grand Theft Auto:</td>\n",
       "      <td>2000 Block ofBuena Vista Street.</td>\n",
       "      <td>Between July 7, 2022, 7 AM and July 13, 2022, ...</td>\n",
       "    </tr>\n",
       "    <tr>\n",
       "      <th>3</th>\n",
       "      <td>July 13, 2022</td>\n",
       "      <td>Petty Theft:</td>\n",
       "      <td>1325 Huntington Drive (Big Lots)</td>\n",
       "      <td>. On July 13, 2022, 12:40 PM, suspect(s) unkno...</td>\n",
       "    </tr>\n",
       "    <tr>\n",
       "      <th>4</th>\n",
       "      <td>July 14, 2022</td>\n",
       "      <td>Burglary (Commercial):</td>\n",
       "      <td>2414 Huntington Drive (Thai City).</td>\n",
       "      <td>On July 14, 2022, 5:03 AM, three suspect(s) un...</td>\n",
       "    </tr>\n",
       "    <tr>\n",
       "      <th>5</th>\n",
       "      <td>July 15, 2022</td>\n",
       "      <td>Burglary (Commercial):</td>\n",
       "      <td>931 Buena Vista Street (Santa Teresita).</td>\n",
       "      <td>On July 15, 2022, 5:55 AM, suspect(s) unknown ...</td>\n",
       "    </tr>\n",
       "    <tr>\n",
       "      <th>6</th>\n",
       "      <td>July 16, 2022</td>\n",
       "      <td>Aggravated Assault:</td>\n",
       "      <td>Junipero Drive.</td>\n",
       "      <td>On July 16, 2022, 11:50 PM, the victim arrived...</td>\n",
       "    </tr>\n",
       "    <tr>\n",
       "      <th>7</th>\n",
       "      <td>July 16, 2022</td>\n",
       "      <td>Petty Theft:</td>\n",
       "      <td>Delford Avenue.</td>\n",
       "      <td>On July 16, 2022, 12:40 PM, suspect unknown, a...</td>\n",
       "    </tr>\n",
       "  </tbody>\n",
       "</table>\n",
       "</div>"
      ],
      "text/plain": [
       "            Date                      Alert  \\\n",
       "0  July 10, 2022               Grand Theft:   \n",
       "1  July 12, 2022          Grand Theft Auto:   \n",
       "2  July 13, 2022  Attempt Grand Theft Auto:   \n",
       "3  July 13, 2022               Petty Theft:   \n",
       "4  July 14, 2022     Burglary (Commercial):   \n",
       "5  July 15, 2022     Burglary (Commercial):   \n",
       "6  July 16, 2022        Aggravated Assault:   \n",
       "7  July 16, 2022               Petty Theft:   \n",
       "\n",
       "                                           Location  \\\n",
       "0  1413 Huntington Drive (The Huntington Apartments   \n",
       "1                   1100 Block of Bloomdale Street.   \n",
       "2                  2000 Block ofBuena Vista Street.   \n",
       "3                  1325 Huntington Drive (Big Lots)   \n",
       "4                2414 Huntington Drive (Thai City).   \n",
       "5          931 Buena Vista Street (Santa Teresita).   \n",
       "6                                   Junipero Drive.   \n",
       "7                                   Delford Avenue.   \n",
       "\n",
       "                                         Description  \n",
       "0  . Between July 9, 2022, 5 PM and July 10, 2022...  \n",
       "1  On July 12, 2022 between 1:20 AM and 10:50 AM,...  \n",
       "2  Between July 7, 2022, 7 AM and July 13, 2022, ...  \n",
       "3  . On July 13, 2022, 12:40 PM, suspect(s) unkno...  \n",
       "4  On July 14, 2022, 5:03 AM, three suspect(s) un...  \n",
       "5  On July 15, 2022, 5:55 AM, suspect(s) unknown ...  \n",
       "6  On July 16, 2022, 11:50 PM, the victim arrived...  \n",
       "7  On July 16, 2022, 12:40 PM, suspect unknown, a...  "
      ]
     },
     "execution_count": 68,
     "metadata": {},
     "output_type": "execute_result"
    }
   ],
   "source": [
    "gateClause = \"CRIME PREVENTION TIPS\"\n",
    "crimeDf = pd.DataFrame(columns=['Date', 'Alert', 'Location', 'Description'])\n",
    "\n",
    "for i in range(len(alertsList)):\n",
    "\n",
    "    # Find date\n",
    "    if isinstance(alertsList[i].find('u'), Tag):\n",
    "        date = alertsList[i].find('u').get_text(strip=True)\n",
    "    elif alertsList[i].name == 'u':\n",
    "        date = alertsList[i].get_text(strip=True)\n",
    "\n",
    "    # Find alert\n",
    "    elif isinstance(alertsList[i].find('strong'), Tag):\n",
    "        alert = alertsList[i].get_text(strip=True)\n",
    "\n",
    "    # Find location\n",
    "    elif alertsList[i].name == 'strong':\n",
    "        location = alertsList[i].get_text(strip=True)\n",
    "\n",
    "    # Find description\n",
    "    else:\n",
    "        if alertsList[i].get_text(strip=True) == '':\n",
    "            pass\n",
    "        else:\n",
    "            description = alertsList[i].get_text(strip=True)\n",
    "            crimeDf = crimeDf.append({'Date':date,\n",
    "                                    'Alert':alert,\n",
    "                                    'Location':location,\n",
    "                                    'Description':description}, ignore_index=True)\n",
    "\n",
    "    # Don't need all the following data after \"gateClause\"\n",
    "    try:\n",
    "        if alertsList[i].find('strong').get_text(strip=True) == gateClause:\n",
    "            print('BREAKING', gateClause)\n",
    "            break\n",
    "    except:\n",
    "        pass\n",
    "\n",
    "crimeDf"
   ]
  }
 ],
 "metadata": {
  "kernelspec": {
   "display_name": "Python 3.8.13 ('base')",
   "language": "python",
   "name": "python3"
  },
  "language_info": {
   "codemirror_mode": {
    "name": "ipython",
    "version": 3
   },
   "file_extension": ".py",
   "mimetype": "text/x-python",
   "name": "python",
   "nbconvert_exporter": "python",
   "pygments_lexer": "ipython3",
   "version": "3.8.13"
  },
  "orig_nbformat": 4,
  "vscode": {
   "interpreter": {
    "hash": "65a8de41a5ee1eeefd8cde7b1d120363c7d2ff8e30a40d43c0887b207b60c148"
   }
  }
 },
 "nbformat": 4,
 "nbformat_minor": 2
}
