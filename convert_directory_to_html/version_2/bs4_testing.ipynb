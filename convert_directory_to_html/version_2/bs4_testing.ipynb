{
 "cells": [
  {
   "cell_type": "code",
   "execution_count": 1,
   "metadata": {},
   "outputs": [
    {
     "data": {
      "text/plain": [
       "WindowsPath('C:/Users/rcman/Desktop/GitHub_Repositories/fintech_coursework/Module_11_Time_Series/11.2.2_Identifying Seasonal Patterns.html')"
      ]
     },
     "execution_count": 1,
     "metadata": {},
     "output_type": "execute_result"
    }
   ],
   "source": [
    "from bs4 import BeautifulSoup as bs\n",
    "from pathlib import Path\n",
    "\n",
    "path = Path(r'C:\\Users\\rcman\\Desktop\\GitHub_Repositories\\fintech_coursework\\Module_11_Time_Series\\11.2.2_Identifying Seasonal Patterns.html')\n",
    "path"
   ]
  },
  {
   "cell_type": "code",
   "execution_count": 22,
   "metadata": {},
   "outputs": [],
   "source": [
    "def scrapeContent(path):\n",
    "    with open(path, 'rb') as file:\n",
    "        soup = bs(file, 'html.parser')\n",
    "        content = soup.find('div', {'id':'wiki_page_show'})\n",
    "\n",
    "        if content is None:\n",
    "            content = soup.find('div', {'id':'bootcamp'})\n",
    "        \n",
    "        stylesheets = soup.find_all('link', {'rel':'stylesheet'})\n",
    "        # print(len(stylesheets))\n",
    "        # css_formatted = '{0[0]}\\n{0[1]}\\n{0[2]}\\n{0[3]}\\n{0[4]}\\n{0[5]}'.format(stylesheets)\n",
    "\n",
    "    return content, stylesheets"
   ]
  },
  {
   "cell_type": "code",
   "execution_count": 24,
   "metadata": {},
   "outputs": [
    {
     "data": {
      "text/plain": [
       "'<div id=\"wiki_page_show\">\\n <div class=\"show-content user_content clearfix enhanced\" id=\"lds-layout\">\\n  <div class=\"lds-content\">\\n   <div class=\"page-header\" style=\\'background-image: url(\"https://bootcampspot.instructure.com/courses/846/files/597640/download\");\\'>\\n    <div class=\"title-div\">\\n     <div class=\"page-number\">\\n      11.2\\n     </div>\\n     <h1 class=\"page-title\">\\n      <span class=\"page-number-md\">\\n       11.2\\n      </span>\\n      <span class=\"page-title-text\">\\n       Roadmap\\n      </span>\\n      <div aria-label=\"University Logo\" class=\"logo-div-lg\" role=\"img\">\\n      </div>\\n     </h1>\\n     <div aria-label=\"University Logo\" class=\"logo-div\" role=\"img\">\\n     </div>\\n    </div>\\n   </div>\\n   <div id=\"bootcamp\">\\n    <p>\\n     <img alt=\"A diagram of the course roadmap focuses on this module.\" class=\"broken-image\" data-api-endpoint=\"https://bootcampspot.instructure.com/api/v1/courses/846/files/597089\" data-api-returntype=\"File\" src=\"./0.11.2_Roadmap_files/11-0-roadmap-image.png\"/>\\n    </p>\\n    <h3>\\n     Looking Ahead\\n    </h3>\\n    <p>\\n     Advanced analytics is becoming enormously popular in the fintech industry. It offers developers and companies a way to analyze thousands of large datasets and to use computer predictions that drive investments and decision making. These large datasets typically contain data that involves a time series. A\\n     <strong>\\n      time series\\n     </strong>\\n     consists of a particular set of discrete and consecutive time values that occurred during a period of time.\\n    </p>\\n    <p>\\n     In this week’s Challenge, you’ll create a model for time series analysis. This model will predict the user traffic of MercadoLibre. With over 200 million users, MercadoLibre is the most popular e-commerce site in Latin America. The purpose will be to help the company grow. You’ll need to apply the following skills:\\n    </p>\\n    <ul>\\n     <li>\\n      <p>\\n       Identify unusual patterns in time series data by using Pandas and other tools.\\n      </p>\\n     </li>\\n     <li>\\n      <p>\\n       Mine for patterns in seasonality by using the hvPlot visualization tool.\\n      </p>\\n     </li>\\n     <li>\\n      <p>\\n       Build sales-forecast and user-interest predictive models for the firm by using Facebook Prophet.\\n      </p>\\n     </li>\\n    </ul>\\n    <h3>\\n     Why This Matters\\n    </h3>\\n    <p>\\n     Time series analysis especially benefits financial services. With this type of analysis, banks and professionals can analyze large datasets and use technology to make investment recommendations and predictions. Without it, this process typically requires multiple people and several hours or even days.\\n    </p>\\n    <p>\\n     In this module, you’ll learn how to both analyze time series data and automate time series forecasting by using Prophet, which is a tool that Facebook created. People can use this tool to streamline financial analysis. An analysis that previously took financial professionals hours to complete can now be automated and completed within minutes by using machine learning algorithms.\\n    </p>\\n    <p>\\n     By the end of this module, you’ll design and run algorithms that use common approaches to time series analysis for making robust predictions about investments. All these new skills will help ensure that you become competitive in the job market.\\n    </p>\\n    <h3>\\n     What You Will Learn\\n    </h3>\\n    <p>\\n     By the end of this module, you’ll be able to:\\n    </p>\\n    <ul>\\n     <li>\\n      <p>\\n       Manipulate time series data by using Pandas.\\n      </p>\\n     </li>\\n     <li>\\n      <p>\\n       Build time series models, including ones that can make predictions across different time frequencies or time zones.\\n      </p>\\n     </li>\\n     <li>\\n      <p>\\n       Visualize and analyze time series data for decision making.\\n      </p>\\n     </li>\\n     <li>\\n      <p>\\n       Analyze time series data by using correlation to recognize and quantify relationships.\\n      </p>\\n     </li>\\n     <li>\\n      <p>\\n       Identify seasonal patterns in time series data.\\n      </p>\\n     </li>\\n     <li>\\n      <p>\\n       Perform time series forecasting by creating models to predict the future.\\n      </p>\\n     </li>\\n    </ul>\\n    <h3>\\n     Planning Your Schedule\\n    </h3>\\n    <p>\\n     We’ve designed the module so that each lesson takes about one to two hours to complete. The actual time will depend on your own experience as well as the time you spend on the lesson activities. The content will prepare you for success in the weekly Challenge. Some students find that the following lesson takes a bit more time:\\n    </p>\\n    <p>\\n     Lesson 3: Time Series Forecasting\\n    </p>\\n   </div>\\n  </div>\\n </div>\\n</div>\\n'"
      ]
     },
     "execution_count": 24,
     "metadata": {},
     "output_type": "execute_result"
    }
   ],
   "source": [
    "content, stylesheets = scrapeContent(path)\n",
    "content.prettify()"
   ]
  },
  {
   "cell_type": "code",
   "execution_count": 14,
   "metadata": {},
   "outputs": [],
   "source": [
    "content"
   ]
  },
  {
   "cell_type": "code",
   "execution_count": 5,
   "metadata": {},
   "outputs": [
    {
     "name": "stdout",
     "output_type": "stream",
     "text": [
      "10\n"
     ]
    }
   ],
   "source": [
    "with open(path, 'rb') as file:\n",
    "    soup = bs(file, 'html.parser')\n",
    "    content = soup.find('div', {'id':'wiki_page_show'})\n",
    "    content2 = soup.find('div', {'id':'bootcamp'})\n",
    "    \n",
    "    stylesheets = soup.find_all('link', {'rel':'stylesheet'})\n",
    "    print(len(stylesheets))\n",
    "    css_formatted = '{0[0]}\\n{0[1]}\\n{0[2]}\\n{0[3]}\\n{0[4]}\\n{0[5]}'.format(stylesheets)\n"
   ]
  },
  {
   "cell_type": "code",
   "execution_count": 12,
   "metadata": {},
   "outputs": [],
   "source": [
    "with open(path, 'r') as file:\n",
    "    readFile = file.read()\n",
    "\n",
    "replaceCollapse = readFile.replace(' collapse', '')\n",
    "\n",
    "with open(path, 'w') as file:\n",
    "    file.write(replaceCollapse)"
   ]
  },
  {
   "cell_type": "code",
   "execution_count": 72,
   "metadata": {},
   "outputs": [],
   "source": [
    "output = Path(r'C:\\Users\\rcman\\Desktop\\FieldLevel\\Module Scraping\\Module_1_Financial_Programming_With_Python\\test_output_1.html')\n",
    "\n",
    "test_output = r'./test_output.html'\n",
    "test_output_1 = r'./test_output_1.html'\n",
    "\n",
    "\n",
    "with open(output, 'w') as w:\n",
    "    w.write(f'''<!DOCTYPE html>\n",
    "<html lang=\"en\">\n",
    "    <head>\n",
    "        <meta charset=\"UTF-8\">\n",
    "        <meta http-equiv=\"X-UA-Compatible\" content=\"IE=edge\">\n",
    "        <meta name=\"viewport\" content=\"width=device-width, initial-scale=1.0\">\n",
    "        <title>{Current}</title>\n",
    "        <style>\n",
    "            #updated_buttons {{\n",
    "                height: 200px;\n",
    "                display: flex;\n",
    "                align-items: start;\n",
    "                justify-content: space-evenly;\n",
    "                }}\n",
    "            a.buttons {{\n",
    "                text-decoration: none;\n",
    "                border-radius: 10%;\n",
    "                color: rgb(255, 255, 255);\n",
    "                background-color: rgb(50, 111, 168);\n",
    "                display: inline-block;\n",
    "                padding: 8px 16px;\n",
    "                }}\n",
    "\n",
    "            a.buttons:hover {{\n",
    "                background-color: #ddd;\n",
    "                color: black;\n",
    "                border-radius: 10%;\n",
    "                }}\n",
    "        </style>\n",
    "        {css_formatted}\n",
    "    </head>\n",
    "    <body>\n",
    "        {content.prettify()}\n",
    "        <div id=\"updated_buttons\">\n",
    "            <a class=\"buttons\" href=\"{test_output}\">Previous</a>\n",
    "            <a class=\"buttons\" href=\"{test_output_1}\">Next</a>\n",
    "        </div>\n",
    "    </body>\n",
    "</html>\n",
    "''')"
   ]
  },
  {
   "cell_type": "code",
   "execution_count": null,
   "metadata": {},
   "outputs": [],
   "source": []
  },
  {
   "cell_type": "code",
   "execution_count": null,
   "metadata": {},
   "outputs": [],
   "source": []
  }
 ],
 "metadata": {
  "kernelspec": {
   "display_name": "Python 3.8.13 ('base')",
   "language": "python",
   "name": "python3"
  },
  "language_info": {
   "codemirror_mode": {
    "name": "ipython",
    "version": 3
   },
   "file_extension": ".py",
   "mimetype": "text/x-python",
   "name": "python",
   "nbconvert_exporter": "python",
   "pygments_lexer": "ipython3",
   "version": "3.8.13"
  },
  "orig_nbformat": 4,
  "vscode": {
   "interpreter": {
    "hash": "65a8de41a5ee1eeefd8cde7b1d120363c7d2ff8e30a40d43c0887b207b60c148"
   }
  }
 },
 "nbformat": 4,
 "nbformat_minor": 2
}
