{
 "cells": [
  {
   "cell_type": "markdown",
   "metadata": {},
   "source": []
  },
  {
   "cell_type": "code",
   "execution_count": 1,
   "metadata": {},
   "outputs": [],
   "source": [
    "import base64\n",
    "import datetime\n",
    "import requests\n",
    "import pandas as pd\n",
    "from config import clientID, clientSecret, redirectURI"
   ]
  },
  {
   "cell_type": "code",
   "execution_count": 2,
   "metadata": {},
   "outputs": [
    {
     "data": {
      "text/plain": [
       "b'YjIyZGNiMWYyZGM4NDc2Njg5Zjg3ZmVhNjg3YjEyNTk6NDRjYzlmMjgzMmZkNDAxMTlkZDI5ZDVhYmFiYzZlMWE='"
      ]
     },
     "execution_count": 2,
     "metadata": {},
     "output_type": "execute_result"
    }
   ],
   "source": [
    "clientCreds = f\"{clientID}:{clientSecret}\"\n",
    "clientCredsB64 = base64.b64encode(clientCreds.encode())\n",
    "clientCredsB64"
   ]
  },
  {
   "cell_type": "code",
   "execution_count": 3,
   "metadata": {},
   "outputs": [],
   "source": [
    "tokenUrl = 'https://accounts.spotify.com/api/token'\n",
    "\n",
    "method = \"POST\"\n",
    "# POST\n",
    "authResponse = requests.post(tokenUrl, {\n",
    "    'grant_type': 'client_credentials',\n",
    "    'client_id': clientID,\n",
    "    'client_secret': clientSecret,\n",
    "})\n",
    "\n",
    "# convert the response to JSON\n",
    "authResponseData = authResponse.json()\n",
    "\n",
    "# save the access token\n",
    "accessToken = authResponseData['access_token']\n",
    "accessToken"
   ]
  },
  {
   "cell_type": "code",
   "execution_count": 6,
   "metadata": {},
   "outputs": [],
   "source": [
    "headers = {\n",
    "    'Authorization': 'Bearer {token}'.format(token=accessToken)\n",
    "}\n",
    "\n",
    "# base URL of all Spotify API endpoints\n",
    "baseUrl = 'https://api.spotify.com/v1/'"
   ]
  },
  {
   "cell_type": "code",
   "execution_count": 7,
   "metadata": {},
   "outputs": [
    {
     "data": {
      "text/plain": [
       "{'danceability': 0.54,\n",
       " 'energy': 0.59,\n",
       " 'key': 0,\n",
       " 'loudness': -4.359,\n",
       " 'mode': 1,\n",
       " 'speechiness': 0.0528,\n",
       " 'acousticness': 0.446,\n",
       " 'instrumentalness': 0,\n",
       " 'liveness': 0.14,\n",
       " 'valence': 0.267,\n",
       " 'tempo': 119.878,\n",
       " 'type': 'audio_features',\n",
       " 'id': '6y0igZArWVi6Iz0rj35c1Y',\n",
       " 'uri': 'spotify:track:6y0igZArWVi6Iz0rj35c1Y',\n",
       " 'track_href': 'https://api.spotify.com/v1/tracks/6y0igZArWVi6Iz0rj35c1Y',\n",
       " 'analysis_url': 'https://api.spotify.com/v1/audio-analysis/6y0igZArWVi6Iz0rj35c1Y',\n",
       " 'duration_ms': 234910,\n",
       " 'time_signature': 4}"
      ]
     },
     "execution_count": 7,
     "metadata": {},
     "output_type": "execute_result"
    }
   ],
   "source": [
    "# Testing API call\n",
    "# Track ID from the URI\n",
    "trackId = '6y0igZArWVi6Iz0rj35c1Y'\n",
    "\n",
    "# actual GET request with proper header\n",
    "req = requests.get(baseUrl + 'audio-features/' + trackId, headers=headers)\n",
    "\n",
    "req = req.json()\n",
    "req"
   ]
  },
  {
   "cell_type": "code",
   "execution_count": null,
   "metadata": {},
   "outputs": [],
   "source": [
    "# Led Zepplin test\n",
    "artistId = '36QJpDe2go2KgaRleHCDTp'\n",
    "\n",
    "# pull all artists albums\n",
    "req = requests.get(baseUrl + 'artists/' + artistId + '/albums', \n",
    "                 headers=headers, \n",
    "                 params={'include_groups': 'album', 'limit': 50})\n",
    "reqLedZepplin = req.json()"
   ]
  },
  {
   "cell_type": "code",
   "execution_count": null,
   "metadata": {},
   "outputs": [],
   "source": [
    "for album in reqLedZepplin['items']:\n",
    "    print(album['name'], ' --- ', album['release_date'])"
   ]
  },
  {
   "cell_type": "code",
   "execution_count": null,
   "metadata": {},
   "outputs": [],
   "source": [
    "albums = [] # to keep track of duplicates\n",
    "\n",
    "# Empty dataframe for later\n",
    "df = pd.DataFrame(columns=['track_name', 'album_name', 'short_album_name', 'release_date', 'album_id'])\n",
    "\n",
    "# loop over albums and get all tracks\n",
    "for album in reqLedZepplin['items']:\n",
    "    albumName = album['name']\n",
    "\n",
    "    # here's a hacky way to skip over albums we've already grabbed\n",
    "    trimName = albumName.split('(')[0].strip()\n",
    "    if trimName.upper() in albums or int(album['release_date'][:4]) > 1983:\n",
    "        continue\n",
    "    albums.append(trimName.upper()) # use upper() to standardize\n",
    "    \n",
    "    # this takes a few seconds so let's keep track of progress    \n",
    "    print(albumName)\n",
    "    \n",
    "    # pull all tracks from this album\n",
    "    req = requests.get(baseUrl + 'albums/' + album['id'] + '/tracks', \n",
    "        headers=headers)\n",
    "    tracks = req.json()['items']\n",
    "    \n",
    "    for track in tracks:\n",
    "        # get audio features (key, liveness, danceability, ...)\n",
    "        f = requests.get(baseUrl + 'audio-features/' + track['id'], \n",
    "            headers=headers)\n",
    "        f = f.json()\n",
    "        \n",
    "        # combine with album info\n",
    "        df.append({\n",
    "            'track_name': track['name'],\n",
    "            'album_name': albumName,\n",
    "            'short_album_name': trimName,\n",
    "            'release_date': album['release_date'],\n",
    "            'album_id': album['id']\n",
    "        })\n",
    "    "
   ]
  }
 ],
 "metadata": {
  "kernelspec": {
   "display_name": "Python 3.8.13 ('base')",
   "language": "python",
   "name": "python3"
  },
  "language_info": {
   "codemirror_mode": {
    "name": "ipython",
    "version": 3
   },
   "file_extension": ".py",
   "mimetype": "text/x-python",
   "name": "python",
   "nbconvert_exporter": "python",
   "pygments_lexer": "ipython3",
   "version": "3.8.13"
  },
  "orig_nbformat": 4,
  "vscode": {
   "interpreter": {
    "hash": "65a8de41a5ee1eeefd8cde7b1d120363c7d2ff8e30a40d43c0887b207b60c148"
   }
  }
 },
 "nbformat": 4,
 "nbformat_minor": 2
}
